{
 "cells": [
  {
   "cell_type": "code",
   "execution_count": 1,
   "id": "7e054b22-4f43-4018-96c6-da06ddb7e43a",
   "metadata": {},
   "outputs": [
    {
     "name": "stdout",
     "output_type": "stream",
     "text": [
      "Hellooo World\n"
     ]
    }
   ],
   "source": [
    "print(\"Hellooo World\")"
   ]
  },
  {
   "cell_type": "code",
   "execution_count": null,
   "id": "b75bc444-2dc2-4729-838a-15a0165a3dc7",
   "metadata": {},
   "outputs": [],
   "source": []
  }
 ],
 "metadata": {
  "kernelspec": {
   "display_name": "Python 3 (ipykernel)",
   "language": "python",
   "name": "python3"
  },
  "language_info": {
   "codemirror_mode": {
    "name": "ipython",
    "version": 3
   },
   "file_extension": ".py",
   "mimetype": "text/x-python",
   "name": "python",
   "nbconvert_exporter": "python",
   "pygments_lexer": "ipython3",
   "version": "3.10.19"
  }
 },
 "nbformat": 4,
 "nbformat_minor": 5
}
